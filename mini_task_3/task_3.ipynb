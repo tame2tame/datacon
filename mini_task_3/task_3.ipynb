{
 "cells": [
  {
   "cell_type": "code",
   "execution_count": 2,
   "metadata": {},
   "outputs": [
    {
     "data": {
      "text/html": [
       "<div>\n",
       "<style scoped>\n",
       "    .dataframe tbody tr th:only-of-type {\n",
       "        vertical-align: middle;\n",
       "    }\n",
       "\n",
       "    .dataframe tbody tr th {\n",
       "        vertical-align: top;\n",
       "    }\n",
       "\n",
       "    .dataframe thead th {\n",
       "        text-align: right;\n",
       "    }\n",
       "</style>\n",
       "<table border=\"1\" class=\"dataframe\">\n",
       "  <thead>\n",
       "    <tr style=\"text-align: right;\">\n",
       "      <th></th>\n",
       "      <th>Unnamed: 0</th>\n",
       "      <th>type_of_nucleic_acid</th>\n",
       "      <th>aptamer_sequence</th>\n",
       "      <th>sequence_length</th>\n",
       "      <th>gc_content</th>\n",
       "      <th>kd_(nm)</th>\n",
       "      <th>type_of_the_buffer</th>\n",
       "      <th>ph</th>\n",
       "      <th>filtered_sequence</th>\n",
       "      <th>mol_wt</th>\n",
       "      <th>num_rotatable_bonds</th>\n",
       "      <th>tpsa</th>\n",
       "      <th>mol_log_p</th>\n",
       "    </tr>\n",
       "  </thead>\n",
       "  <tbody>\n",
       "    <tr>\n",
       "      <th>0</th>\n",
       "      <td>1</td>\n",
       "      <td>12</td>\n",
       "      <td>GAAUUGUGGUGUUGGCUCCCUAUAGUGAGUCGUAUUAAUAUUCCUU...</td>\n",
       "      <td>113</td>\n",
       "      <td>0.336283</td>\n",
       "      <td>4.8</td>\n",
       "      <td>0</td>\n",
       "      <td>7.466744</td>\n",
       "      <td>MKEFYISIETVGNNIVERYIDENGKERTREVEYLPTMFRHCKEESK...</td>\n",
       "      <td>134278.328</td>\n",
       "      <td>714.0</td>\n",
       "      <td>54936.71</td>\n",
       "      <td>-838.74460</td>\n",
       "    </tr>\n",
       "    <tr>\n",
       "      <th>1</th>\n",
       "      <td>2</td>\n",
       "      <td>12</td>\n",
       "      <td>GAAUUGUGGUGUUGGCUCCCUAUAGUGAGUCGUAUUAAUAUUCCUU...</td>\n",
       "      <td>113</td>\n",
       "      <td>0.353982</td>\n",
       "      <td>4.8</td>\n",
       "      <td>0</td>\n",
       "      <td>7.466744</td>\n",
       "      <td>MKEFYISIETVGNNIVERYIDENGKERTREVEYLPTMFRHCKEESK...</td>\n",
       "      <td>34932.516</td>\n",
       "      <td>713.0</td>\n",
       "      <td>14449.86</td>\n",
       "      <td>-254.95599</td>\n",
       "    </tr>\n",
       "    <tr>\n",
       "      <th>2</th>\n",
       "      <td>3</td>\n",
       "      <td>11</td>\n",
       "      <td>GGTTGGTGTGGTTGG</td>\n",
       "      <td>15</td>\n",
       "      <td>0.600000</td>\n",
       "      <td>112.5</td>\n",
       "      <td>3</td>\n",
       "      <td>7.400000</td>\n",
       "      <td>TSEDHFQPFFNEKTFGAGEADCGLRPLFEKKQVQDQTEKELFESYI...</td>\n",
       "      <td>73107.795</td>\n",
       "      <td>730.0</td>\n",
       "      <td>30882.71</td>\n",
       "      <td>-636.91317</td>\n",
       "    </tr>\n",
       "    <tr>\n",
       "      <th>3</th>\n",
       "      <td>4</td>\n",
       "      <td>11</td>\n",
       "      <td>GGTTGG</td>\n",
       "      <td>6</td>\n",
       "      <td>0.666667</td>\n",
       "      <td>112.5</td>\n",
       "      <td>3</td>\n",
       "      <td>7.400000</td>\n",
       "      <td>TSEDHFQPFFNEKTFGAGEADCGLRPLFEKKQVQDQTEKELFESYI...</td>\n",
       "      <td>69525.328</td>\n",
       "      <td>704.0</td>\n",
       "      <td>28032.07</td>\n",
       "      <td>-543.13314</td>\n",
       "    </tr>\n",
       "    <tr>\n",
       "      <th>4</th>\n",
       "      <td>5</td>\n",
       "      <td>12</td>\n",
       "      <td>GGGAGCAUCAGACUUUUAAUCUGACAAUCAAGAAUUCCGUUUUCAG...</td>\n",
       "      <td>96</td>\n",
       "      <td>0.333333</td>\n",
       "      <td>5.0</td>\n",
       "      <td>3</td>\n",
       "      <td>7.700000</td>\n",
       "      <td>PISPIETVPVKLKPGMDGPKVKQWPLTEEKIKALVEICTEMEKEGK...</td>\n",
       "      <td>74526.975</td>\n",
       "      <td>726.0</td>\n",
       "      <td>30647.61</td>\n",
       "      <td>-663.15408</td>\n",
       "    </tr>\n",
       "  </tbody>\n",
       "</table>\n",
       "</div>"
      ],
      "text/plain": [
       "   Unnamed: 0  type_of_nucleic_acid  \\\n",
       "0           1                    12   \n",
       "1           2                    12   \n",
       "2           3                    11   \n",
       "3           4                    11   \n",
       "4           5                    12   \n",
       "\n",
       "                                    aptamer_sequence  sequence_length  \\\n",
       "0  GAAUUGUGGUGUUGGCUCCCUAUAGUGAGUCGUAUUAAUAUUCCUU...              113   \n",
       "1  GAAUUGUGGUGUUGGCUCCCUAUAGUGAGUCGUAUUAAUAUUCCUU...              113   \n",
       "2                                    GGTTGGTGTGGTTGG               15   \n",
       "3                                             GGTTGG                6   \n",
       "4  GGGAGCAUCAGACUUUUAAUCUGACAAUCAAGAAUUCCGUUUUCAG...               96   \n",
       "\n",
       "   gc_content  kd_(nm)  type_of_the_buffer        ph  \\\n",
       "0    0.336283      4.8                   0  7.466744   \n",
       "1    0.353982      4.8                   0  7.466744   \n",
       "2    0.600000    112.5                   3  7.400000   \n",
       "3    0.666667    112.5                   3  7.400000   \n",
       "4    0.333333      5.0                   3  7.700000   \n",
       "\n",
       "                                   filtered_sequence      mol_wt  \\\n",
       "0  MKEFYISIETVGNNIVERYIDENGKERTREVEYLPTMFRHCKEESK...  134278.328   \n",
       "1  MKEFYISIETVGNNIVERYIDENGKERTREVEYLPTMFRHCKEESK...   34932.516   \n",
       "2  TSEDHFQPFFNEKTFGAGEADCGLRPLFEKKQVQDQTEKELFESYI...   73107.795   \n",
       "3  TSEDHFQPFFNEKTFGAGEADCGLRPLFEKKQVQDQTEKELFESYI...   69525.328   \n",
       "4  PISPIETVPVKLKPGMDGPKVKQWPLTEEKIKALVEICTEMEKEGK...   74526.975   \n",
       "\n",
       "   num_rotatable_bonds      tpsa  mol_log_p  \n",
       "0                714.0  54936.71 -838.74460  \n",
       "1                713.0  14449.86 -254.95599  \n",
       "2                730.0  30882.71 -636.91317  \n",
       "3                704.0  28032.07 -543.13314  \n",
       "4                726.0  30647.61 -663.15408  "
      ]
     },
     "execution_count": 2,
     "metadata": {},
     "output_type": "execute_result"
    }
   ],
   "source": [
    "import pandas as pd\n",
    "import seaborn as sns\n",
    "import matplotlib.pyplot as plt\n",
    "import numpy as np\n",
    "\n",
    "df = pd.read_csv('df.csv')\n",
    "df.head()"
   ]
  },
  {
   "cell_type": "code",
   "execution_count": 3,
   "metadata": {},
   "outputs": [
    {
     "data": {
      "text/plain": [
       "array([134278.328     ,  34932.516     ,  73107.795     ,  69525.328     ,\n",
       "        74526.975     ,  11052.178     ,  44940.539     ,  19938.066     ,\n",
       "        47166.533     ,  42273.264     , 109735.536     ,  69457.366     ,\n",
       "       163280.03100001,  57511.675     ,   7725.818     ,  62547.704     ,\n",
       "        56528.333     ,  42813.299     ,  38248.939     ,  97170.731     ,\n",
       "        20608.113     ,  88885.085     ,  38238.927     ,  52682.49      ,\n",
       "        20713.165     ,  35149.246     ,   9769.343     ,  57100.996     ,\n",
       "        44851.924     ,  68407.309     ,             nan,  17279.952     ,\n",
       "       103610.335     , 162042.68200001,   1070.299     ,  16028.531     ,\n",
       "        47777.632     ,  76751.307     ,  35609.101     ,  23501.421     ,\n",
       "        28450.903     ,  23614.036     ,  32329.98      ,  47065.86      ,\n",
       "        13714.625     ,  22086.628     ,  30640.235     ,  87028.584     ,\n",
       "        38177.801     , 133995.162     ,  49591.304     ,  45060.233     ,\n",
       "        64368.209     ,  39775.569     ,  22412.971     ,  29895.39      ,\n",
       "       258927.87500004,  45464.706     , 108886.81      ,  33681.024     ,\n",
       "       197580.13400002,  11022.407     ,  42117.412     ,  34831.053     ,\n",
       "        74065.757     ,  12297.651     , 188306.12100002,  10195.851     ,\n",
       "        18832.823     ,  64073.851     ,  55785.558     ,  15538.444     ,\n",
       "        63149.725     , 175491.75200002,  73339.63      ,  16738.034     ,\n",
       "        49255.796     , 150406.68900001, 265352.55300004,  46571.358     ,\n",
       "        27690.243     ,  45569.041     ,  46154.194     ])"
      ]
     },
     "execution_count": 3,
     "metadata": {},
     "output_type": "execute_result"
    }
   ],
   "source": [
    "df['mol_wt'].unique()"
   ]
  },
  {
   "cell_type": "markdown",
   "metadata": {},
   "source": [
    "В колонке присутвует nan, удалим такие колонки."
   ]
  },
  {
   "cell_type": "code",
   "execution_count": 4,
   "metadata": {},
   "outputs": [],
   "source": [
    "df.dropna(subset=['mol_wt'], inplace=True)\n",
    "df.dropna(subset=['num_rotatable_bonds'], inplace=True)\n",
    "df.dropna(subset=['tpsa'], inplace=True)\n",
    "df.dropna(subset=['mol_log_p'], inplace=True)"
   ]
  },
  {
   "cell_type": "markdown",
   "metadata": {},
   "source": [
    "## Регресионное моделирование"
   ]
  },
  {
   "cell_type": "code",
   "execution_count": 6,
   "metadata": {},
   "outputs": [
    {
     "name": "stdout",
     "output_type": "stream",
     "text": [
      "<class 'pandas.core.frame.DataFrame'>\n",
      "Int64Index: 641 entries, 0 to 649\n",
      "Data columns (total 13 columns):\n",
      " #   Column                Non-Null Count  Dtype  \n",
      "---  ------                --------------  -----  \n",
      " 0   Unnamed: 0            641 non-null    int64  \n",
      " 1   type_of_nucleic_acid  641 non-null    int64  \n",
      " 2   aptamer_sequence      641 non-null    object \n",
      " 3   sequence_length       641 non-null    int64  \n",
      " 4   gc_content            641 non-null    float64\n",
      " 5   kd_(nm)               641 non-null    float64\n",
      " 6   type_of_the_buffer    641 non-null    int64  \n",
      " 7   ph                    641 non-null    float64\n",
      " 8   filtered_sequence     641 non-null    object \n",
      " 9   mol_wt                641 non-null    float64\n",
      " 10  num_rotatable_bonds   641 non-null    float64\n",
      " 11  tpsa                  641 non-null    float64\n",
      " 12  mol_log_p             641 non-null    float64\n",
      "dtypes: float64(7), int64(4), object(2)\n",
      "memory usage: 70.1+ KB\n"
     ]
    }
   ],
   "source": [
    "df.info()"
   ]
  },
  {
   "cell_type": "code",
   "execution_count": 12,
   "metadata": {},
   "outputs": [],
   "source": [
    "df.drop('Unnamed: 0', inplace=True, axis=1)"
   ]
  },
  {
   "cell_type": "code",
   "execution_count": 45,
   "metadata": {},
   "outputs": [
    {
     "data": {
      "text/plain": [
       "LinearRegression()"
      ]
     },
     "execution_count": 45,
     "metadata": {},
     "output_type": "execute_result"
    }
   ],
   "source": [
    "from sklearn.model_selection import train_test_split\n",
    "from sklearn.linear_model import LinearRegression\n",
    "from sklearn.preprocessing import MinMaxScaler\n",
    "\n",
    "\n",
    "X = df.drop({'aptamer_sequence', 'filtered_sequence', 'kd_(nm)'}, axis=1)\n",
    "y = df['kd_(nm)']\n",
    "\n",
    "# Масштабирование числовых признаков\n",
    "scaler = MinMaxScaler()\n",
    "X[['gc_content', 'ph', 'mol_wt', 'num_rotatable_bonds', 'tpsa', 'mol_log_p']] = scaler.fit_transform(X[[\n",
    "    'gc_content', 'ph', 'mol_wt', 'num_rotatable_bonds', 'tpsa', 'mol_log_p'\n",
    "    ]])\n",
    "\n",
    "# X = scaler.fit_transform(X)\n",
    "\n",
    "\n",
    "# Разделение данных на обучающий и тестовый наборы\n",
    "X_train, X_test, y_train, y_test = train_test_split(X, y, test_size=0.3, random_state=42)\n",
    "\n",
    "# Создание и обучение модели линейной регрессии\n",
    "model = LinearRegression()\n",
    "model.fit(X_train, y_train)\n",
    "\n"
   ]
  },
  {
   "cell_type": "code",
   "execution_count": 46,
   "metadata": {},
   "outputs": [],
   "source": [
    "y_pred = model.predict(X_test)"
   ]
  },
  {
   "cell_type": "code",
   "execution_count": 34,
   "metadata": {},
   "outputs": [],
   "source": [
    "from sklearn.metrics import mean_squared_error, r2_score, mean_absolute_error\n",
    "\n",
    "def print_metrics(y_test, y_pred):\n",
    "    mse = mean_squared_error(y_test, y_pred)\n",
    "    r2 = r2_score(y_test, y_pred)\n",
    "    mae = mean_absolute_error(y_test, y_pred)\n",
    "    rmse = np.sqrt(mse)\n",
    "\n",
    "    print(f'MSE: {mse}, R^2: {r2}, MAE: {mae}, RMSE: {rmse}')\n",
    "\n"
   ]
  },
  {
   "cell_type": "code",
   "execution_count": 47,
   "metadata": {},
   "outputs": [
    {
     "name": "stdout",
     "output_type": "stream",
     "text": [
      "MSE: 7673.522641554313, R^2: -0.028124384884131937, MAE: 58.57168624788002, RMSE: 87.59864520387465\n"
     ]
    }
   ],
   "source": [
    "print_metrics(y_test, y_pred)"
   ]
  },
  {
   "cell_type": "code",
   "execution_count": 36,
   "metadata": {},
   "outputs": [],
   "source": [
    "from sklearn.dummy import DummyClassifier \n",
    "\n",
    "dummy_clf = DummyClassifier(strategy=\"most_frequent\")\n",
    "dummy_clf.fit(X_train, y_train)\n",
    "\n",
    "# Делаем предсказания на тестовом наборе\n",
    "y_pred_dummy = dummy_clf.predict(X_test)"
   ]
  },
  {
   "cell_type": "code",
   "execution_count": 37,
   "metadata": {},
   "outputs": [
    {
     "name": "stdout",
     "output_type": "stream",
     "text": [
      "MSE: 9330.694825183937, R^2: -0.25015789042366743, MAE: 50.32010880829015, RMSE: 96.59552176567989\n"
     ]
    }
   ],
   "source": [
    "print_metrics(y_test, y_pred_dummy)"
   ]
  },
  {
   "cell_type": "code",
   "execution_count": 39,
   "metadata": {},
   "outputs": [],
   "source": [
    "def scatter(col1, col2):\n",
    "    plt.scatter(df[col1], df[col2], )\n",
    "    plt.xlabel(col1)\n",
    "    plt.ylabel(col2)\n",
    "    plt.show()"
   ]
  },
  {
   "cell_type": "code",
   "execution_count": 40,
   "metadata": {},
   "outputs": [
    {
     "name": "stdout",
     "output_type": "stream",
     "text": [
      "<class 'pandas.core.frame.DataFrame'>\n",
      "Int64Index: 641 entries, 0 to 649\n",
      "Data columns (total 12 columns):\n",
      " #   Column                Non-Null Count  Dtype  \n",
      "---  ------                --------------  -----  \n",
      " 0   type_of_nucleic_acid  641 non-null    int64  \n",
      " 1   aptamer_sequence      641 non-null    object \n",
      " 2   sequence_length       641 non-null    int64  \n",
      " 3   gc_content            641 non-null    float64\n",
      " 4   kd_(nm)               641 non-null    float64\n",
      " 5   type_of_the_buffer    641 non-null    int64  \n",
      " 6   ph                    641 non-null    float64\n",
      " 7   filtered_sequence     641 non-null    object \n",
      " 8   mol_wt                641 non-null    float64\n",
      " 9   num_rotatable_bonds   641 non-null    float64\n",
      " 10  tpsa                  641 non-null    float64\n",
      " 11  mol_log_p             641 non-null    float64\n",
      "dtypes: float64(7), int64(3), object(2)\n",
      "memory usage: 81.3+ KB\n"
     ]
    }
   ],
   "source": [
    "df.info()"
   ]
  },
  {
   "cell_type": "code",
   "execution_count": 44,
   "metadata": {},
   "outputs": [
    {
     "data": {
      "image/png": "[encoded data removed]",
      "text/plain": [
       "<Figure size 432x288 with 1 Axes>"
      ]
     },
     "metadata": {
      "needs_background": "light"
     },
     "output_type": "display_data"
    }
   ],
   "source": [
    "scatter('kd_(nm)', 'mol_log_p')"
   ]
  }
 ],
 "metadata": {
  "kernelspec": {
   "display_name": "base",
   "language": "python",
   "name": "python3"
  },
  "language_info": {
   "codemirror_mode": {
    "name": "ipython",
    "version": 3
   },
   "file_extension": ".py",
   "mimetype": "text/x-python",
   "name": "python",
   "nbconvert_exporter": "python",
   "pygments_lexer": "ipython3",
   "version": "3.9.12"
  }
 },
 "nbformat": 4,
 "nbformat_minor": 2
}
