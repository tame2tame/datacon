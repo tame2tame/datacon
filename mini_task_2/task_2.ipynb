{
 "cells": [
  {
   "cell_type": "code",
   "execution_count": 13,
   "metadata": {},
   "outputs": [
    {
     "data": {
      "text/html": [
       "<div>\n",
       "<style scoped>\n",
       "    .dataframe tbody tr th:only-of-type {\n",
       "        vertical-align: middle;\n",
       "    }\n",
       "\n",
       "    .dataframe tbody tr th {\n",
       "        vertical-align: top;\n",
       "    }\n",
       "\n",
       "    .dataframe thead th {\n",
       "        text-align: right;\n",
       "    }\n",
       "</style>\n",
       "<table border=\"1\" class=\"dataframe\">\n",
       "  <thead>\n",
       "    <tr style=\"text-align: right;\">\n",
       "      <th></th>\n",
       "      <th>type_of_nucleic_acid</th>\n",
       "      <th>aptamer_sequence</th>\n",
       "      <th>sequence_length</th>\n",
       "      <th>gc_content</th>\n",
       "      <th>kd_(nm)</th>\n",
       "      <th>type_of_the_buffer</th>\n",
       "      <th>ph</th>\n",
       "      <th>filtered_sequence</th>\n",
       "    </tr>\n",
       "  </thead>\n",
       "  <tbody>\n",
       "    <tr>\n",
       "      <th>0</th>\n",
       "      <td>12</td>\n",
       "      <td>GGGAGAAUUCCCGCGGCGUUGGCCCAGGAUAAUAGGACGAAAUCCG...</td>\n",
       "      <td>133</td>\n",
       "      <td>0.593985</td>\n",
       "      <td>100000.0</td>\n",
       "      <td>3</td>\n",
       "      <td>7.600000</td>\n",
       "      <td>MKMDKKTIVWFRRDLRIEDNPALAAAAHEGSVFPVFIWCPEEEGQF...</td>\n",
       "    </tr>\n",
       "    <tr>\n",
       "      <th>1</th>\n",
       "      <td>12</td>\n",
       "      <td>GAAUUGUGGUGUUGGCUCCCUAUAGUGAGUCGUAUUAAUAUUCCUU...</td>\n",
       "      <td>113</td>\n",
       "      <td>0.336283</td>\n",
       "      <td>4.8</td>\n",
       "      <td>0</td>\n",
       "      <td>7.466744</td>\n",
       "      <td>MKEFYISIETVGNNIVERYIDENGKERTREVEYLPTMFRHCKEESK...</td>\n",
       "    </tr>\n",
       "    <tr>\n",
       "      <th>2</th>\n",
       "      <td>12</td>\n",
       "      <td>GAAUUGUGGUGUUGGCUCCCUAUAGUGAGUCGUAUUAAUAUUCCUU...</td>\n",
       "      <td>113</td>\n",
       "      <td>0.353982</td>\n",
       "      <td>4.8</td>\n",
       "      <td>0</td>\n",
       "      <td>7.466744</td>\n",
       "      <td>MKEFYISIETVGNNIVERYIDENGKERTREVEYLPTMFRHCKEESK...</td>\n",
       "    </tr>\n",
       "    <tr>\n",
       "      <th>3</th>\n",
       "      <td>11</td>\n",
       "      <td>GGTTGGTGTGGTTGG</td>\n",
       "      <td>15</td>\n",
       "      <td>0.600000</td>\n",
       "      <td>112.5</td>\n",
       "      <td>3</td>\n",
       "      <td>7.400000</td>\n",
       "      <td>TSEDHFQPFFNEKTFGAGEADCGLRPLFEKKQVQDQTEKELFESYI...</td>\n",
       "    </tr>\n",
       "    <tr>\n",
       "      <th>4</th>\n",
       "      <td>11</td>\n",
       "      <td>GGTTGG</td>\n",
       "      <td>6</td>\n",
       "      <td>0.666667</td>\n",
       "      <td>112.5</td>\n",
       "      <td>3</td>\n",
       "      <td>7.400000</td>\n",
       "      <td>TSEDHFQPFFNEKTFGAGEADCGLRPLFEKKQVQDQTEKELFESYI...</td>\n",
       "    </tr>\n",
       "  </tbody>\n",
       "</table>\n",
       "</div>"
      ],
      "text/plain": [
       "   type_of_nucleic_acid                                   aptamer_sequence  \\\n",
       "0                    12  GGGAGAAUUCCCGCGGCGUUGGCCCAGGAUAAUAGGACGAAAUCCG...   \n",
       "1                    12  GAAUUGUGGUGUUGGCUCCCUAUAGUGAGUCGUAUUAAUAUUCCUU...   \n",
       "2                    12  GAAUUGUGGUGUUGGCUCCCUAUAGUGAGUCGUAUUAAUAUUCCUU...   \n",
       "3                    11                                    GGTTGGTGTGGTTGG   \n",
       "4                    11                                             GGTTGG   \n",
       "\n",
       "   sequence_length  gc_content   kd_(nm)  type_of_the_buffer        ph  \\\n",
       "0              133    0.593985  100000.0                   3  7.600000   \n",
       "1              113    0.336283       4.8                   0  7.466744   \n",
       "2              113    0.353982       4.8                   0  7.466744   \n",
       "3               15    0.600000     112.5                   3  7.400000   \n",
       "4                6    0.666667     112.5                   3  7.400000   \n",
       "\n",
       "                                   filtered_sequence  \n",
       "0  MKMDKKTIVWFRRDLRIEDNPALAAAAHEGSVFPVFIWCPEEEGQF...  \n",
       "1  MKEFYISIETVGNNIVERYIDENGKERTREVEYLPTMFRHCKEESK...  \n",
       "2  MKEFYISIETVGNNIVERYIDENGKERTREVEYLPTMFRHCKEESK...  \n",
       "3  TSEDHFQPFFNEKTFGAGEADCGLRPLFEKKQVQDQTEKELFESYI...  \n",
       "4  TSEDHFQPFFNEKTFGAGEADCGLRPLFEKKQVQDQTEKELFESYI...  "
      ]
     },
     "execution_count": 13,
     "metadata": {},
     "output_type": "execute_result"
    }
   ],
   "source": [
    "import pandas as pd\n",
    "import seaborn as sns\n",
    "import matplotlib.pyplot as plt\n",
    "import numpy as np\n",
    "\n",
    "df = pd.read_csv('work.csv')\n",
    "df.columns = df.columns.str.strip()\n",
    "df.columns = [col.lower().replace(',', '').replace('.', '').replace(\" \", '_') for col in df.columns]\n",
    "df.head()"
   ]
  },
  {
   "cell_type": "markdown",
   "metadata": {},
   "source": [
    "## ЧАСТЬ I"
   ]
  },
  {
   "cell_type": "code",
   "execution_count": 6,
   "metadata": {},
   "outputs": [
    {
     "name": "stdout",
     "output_type": "stream",
     "text": [
      "<class 'pandas.core.frame.DataFrame'>\n",
      "RangeIndex: 751 entries, 0 to 750\n",
      "Data columns (total 8 columns):\n",
      " #   Column                Non-Null Count  Dtype  \n",
      "---  ------                --------------  -----  \n",
      " 0   Type of Nucleic Acid  751 non-null    int64  \n",
      " 1   Aptamer Sequence      751 non-null    object \n",
      " 2   Sequence Length       751 non-null    int64  \n",
      " 3   GC Content            751 non-null    float64\n",
      " 4   Kd (nM)               751 non-null    float64\n",
      " 5   Type of the buffer    751 non-null    int64  \n",
      " 6   pH                    751 non-null    float64\n",
      " 7   filtered_sequence     751 non-null    object \n",
      "dtypes: float64(3), int64(3), object(2)\n",
      "memory usage: 47.1+ KB\n"
     ]
    }
   ],
   "source": [
    "df.info()"
   ]
  },
  {
   "cell_type": "code",
   "execution_count": 14,
   "metadata": {},
   "outputs": [],
   "source": [
    "# Группировка данных по типу аптамеров\n",
    "grouped_df = df.groupby('type_of_nucleic_acid')"
   ]
  },
  {
   "cell_type": "code",
   "execution_count": 17,
   "metadata": {},
   "outputs": [
    {
     "data": {
      "text/html": [
       "<div>\n",
       "<style scoped>\n",
       "    .dataframe tbody tr th:only-of-type {\n",
       "        vertical-align: middle;\n",
       "    }\n",
       "\n",
       "    .dataframe tbody tr th {\n",
       "        vertical-align: top;\n",
       "    }\n",
       "\n",
       "    .dataframe thead th {\n",
       "        text-align: right;\n",
       "    }\n",
       "</style>\n",
       "<table border=\"1\" class=\"dataframe\">\n",
       "  <thead>\n",
       "    <tr style=\"text-align: right;\">\n",
       "      <th></th>\n",
       "      <th>type_of_nucleic_acid</th>\n",
       "      <th>aptamer_sequence</th>\n",
       "      <th>sequence_length</th>\n",
       "      <th>gc_content</th>\n",
       "      <th>kd_(nm)</th>\n",
       "      <th>type_of_the_buffer</th>\n",
       "      <th>ph</th>\n",
       "      <th>filtered_sequence</th>\n",
       "    </tr>\n",
       "  </thead>\n",
       "  <tbody>\n",
       "    <tr>\n",
       "      <th>0</th>\n",
       "      <td>0</td>\n",
       "      <td>TCGCCTTGCCGGATCGCAGACCAACAGGACCAGCACGGGGGGGCTG...</td>\n",
       "      <td>70</td>\n",
       "      <td>0.628571</td>\n",
       "      <td>4.2</td>\n",
       "      <td>3</td>\n",
       "      <td>7.4</td>\n",
       "      <td>MSHVRGLGLPGCLALAALASLVHSQHVFLAPQQALSLLQRVRRANS...</td>\n",
       "    </tr>\n",
       "    <tr>\n",
       "      <th>1</th>\n",
       "      <td>0</td>\n",
       "      <td>TCGCCTTGCCGGATCGCAGACTCTTAACAGGACTCATGCACGGGGG...</td>\n",
       "      <td>70</td>\n",
       "      <td>0.628571</td>\n",
       "      <td>18.0</td>\n",
       "      <td>3</td>\n",
       "      <td>7.4</td>\n",
       "      <td>MKFTALAKATLALGILTTGTLTTEVHSGHAKQNQKSVNKHDKEALY...</td>\n",
       "    </tr>\n",
       "    <tr>\n",
       "      <th>2</th>\n",
       "      <td>0</td>\n",
       "      <td>TCGCCTTGCCGGATCGCAGACCGACAGGACACAGCACGCGGGGGCT...</td>\n",
       "      <td>70</td>\n",
       "      <td>0.642857</td>\n",
       "      <td>20.0</td>\n",
       "      <td>3</td>\n",
       "      <td>7.4</td>\n",
       "      <td>MKFTALAKATLALGILTTGTLTTEVHSGHAKQNQKSVNKHDKEALY...</td>\n",
       "    </tr>\n",
       "    <tr>\n",
       "      <th>3</th>\n",
       "      <td>0</td>\n",
       "      <td>TCGCCTTGCCGGATCGCAGACCGACAGGACCAGCACGGGGGGGCTG...</td>\n",
       "      <td>70</td>\n",
       "      <td>0.642857</td>\n",
       "      <td>27.0</td>\n",
       "      <td>3</td>\n",
       "      <td>7.4</td>\n",
       "      <td>MKFTALAKATLALGILTTGTLTTEVHSGHAKQNQKSVNKHDKEALY...</td>\n",
       "    </tr>\n",
       "    <tr>\n",
       "      <th>4</th>\n",
       "      <td>0</td>\n",
       "      <td>TCGCCTTGCCGGATCGCAGACCAACAGGACAAGGAAACAAACCCGC...</td>\n",
       "      <td>70</td>\n",
       "      <td>0.571429</td>\n",
       "      <td>23.0</td>\n",
       "      <td>3</td>\n",
       "      <td>7.4</td>\n",
       "      <td>MKFTALAKATLALGILTTGTLTTEVHSGHAKQNQKSVNKHDKEALY...</td>\n",
       "    </tr>\n",
       "  </tbody>\n",
       "</table>\n",
       "</div>"
      ],
      "text/plain": [
       "   type_of_nucleic_acid                                   aptamer_sequence  \\\n",
       "0                     0  TCGCCTTGCCGGATCGCAGACCAACAGGACCAGCACGGGGGGGCTG...   \n",
       "1                     0  TCGCCTTGCCGGATCGCAGACTCTTAACAGGACTCATGCACGGGGG...   \n",
       "2                     0  TCGCCTTGCCGGATCGCAGACCGACAGGACACAGCACGCGGGGGCT...   \n",
       "3                     0  TCGCCTTGCCGGATCGCAGACCGACAGGACCAGCACGGGGGGGCTG...   \n",
       "4                     0  TCGCCTTGCCGGATCGCAGACCAACAGGACAAGGAAACAAACCCGC...   \n",
       "\n",
       "   sequence_length  gc_content  kd_(nm)  type_of_the_buffer   ph  \\\n",
       "0               70    0.628571      4.2                   3  7.4   \n",
       "1               70    0.628571     18.0                   3  7.4   \n",
       "2               70    0.642857     20.0                   3  7.4   \n",
       "3               70    0.642857     27.0                   3  7.4   \n",
       "4               70    0.571429     23.0                   3  7.4   \n",
       "\n",
       "                                   filtered_sequence  \n",
       "0  MSHVRGLGLPGCLALAALASLVHSQHVFLAPQQALSLLQRVRRANS...  \n",
       "1  MKFTALAKATLALGILTTGTLTTEVHSGHAKQNQKSVNKHDKEALY...  \n",
       "2  MKFTALAKATLALGILTTGTLTTEVHSGHAKQNQKSVNKHDKEALY...  \n",
       "3  MKFTALAKATLALGILTTGTLTTEVHSGHAKQNQKSVNKHDKEALY...  \n",
       "4  MKFTALAKATLALGILTTGTLTTEVHSGHAKQNQKSVNKHDKEALY...  "
      ]
     },
     "execution_count": 17,
     "metadata": {},
     "output_type": "execute_result"
    }
   ],
   "source": [
    "sorted_df = df.sort_values(by='type_of_nucleic_acid').reset_index(drop=True)\n",
    "sorted_df.head()  "
   ]
  },
  {
   "cell_type": "code",
   "execution_count": 18,
   "metadata": {},
   "outputs": [],
   "source": [
    "rna_data_12 = sorted_df[sorted_df['type_of_nucleic_acid'] == 12]\n",
    "rna_data_11 = sorted_df[sorted_df['type_of_nucleic_acid'] == 11]\n",
    "rna_data_10 = sorted_df[sorted_df['type_of_nucleic_acid'] == 10]\n",
    "rna_data_9 = sorted_df[sorted_df['type_of_nucleic_acid'] == 9]\n",
    "rna_data_8 = sorted_df[sorted_df['type_of_nucleic_acid'] == 8]\n",
    "rna_data_7 = sorted_df[sorted_df['type_of_nucleic_acid'] == 7]\n",
    "rna_data_6 = sorted_df[sorted_df['type_of_nucleic_acid'] == 6]\n",
    "rna_data_5 = sorted_df[sorted_df['type_of_nucleic_acid'] == 5]\n",
    "rna_data_4 = sorted_df[sorted_df['type_of_nucleic_acid'] == 4]\n",
    "rna_data_3 = sorted_df[sorted_df['type_of_nucleic_acid'] == 3]\n",
    "rna_data_2 = sorted_df[sorted_df['type_of_nucleic_acid'] == 2]\n",
    "rna_data_1 = sorted_df[sorted_df['type_of_nucleic_acid'] == 1]\n",
    "rna_data_0 = sorted_df[sorted_df['type_of_nucleic_acid'] == 0]"
   ]
  },
  {
   "cell_type": "markdown",
   "metadata": {},
   "source": [
    "### Расчет дескрипторов"
   ]
  },
  {
   "cell_type": "code",
   "execution_count": 19,
   "metadata": {},
   "outputs": [],
   "source": [
    "from rdkit import Chem\n",
    "from rdkit.Chem import Descriptors\n",
    "from PyBioMed.PyProtein import CTD"
   ]
  },
  {
   "cell_type": "code",
   "execution_count": 25,
   "metadata": {},
   "outputs": [],
   "source": [
    "# Функция для расчета дескрипторов аптамеров\n",
    "def calculate_aptamer_descriptors(sequence):\n",
    "    mol = Chem.MolFromSequence(sequence)\n",
    "    descriptors = {\n",
    "        'MolWt': Descriptors.MolWt(mol),\n",
    "        'NumRotatableBonds': Descriptors.NumRotatableBonds(mol),\n",
    "        'TPSA': Descriptors.TPSA(mol),\n",
    "        'MolLogP': Descriptors.MolLogP(mol)\n",
    "    }\n",
    "    return descriptors\n",
    "# Её надо проверить на правильность"
   ]
  },
  {
   "cell_type": "code",
   "execution_count": null,
   "metadata": {},
   "outputs": [],
   "source": [
    "def apply_aptamer_descriptors(df, sequence: str):\n",
    "    return calculate_aptamer_descriptors"
   ]
  },
  {
   "cell_type": "code",
   "execution_count": 27,
   "metadata": {},
   "outputs": [
    {
     "data": {
      "text/plain": [
       "type_of_nucleic_acid                                                   12\n",
       "aptamer_sequence        GGGAGGACGAUGCGGUCCUGUCGUCUGUUCGUCCCCAGACGACUCG...\n",
       "sequence_length                                                        51\n",
       "gc_content                                                       0.666667\n",
       "kd_(nm)                                                             122.0\n",
       "type_of_the_buffer                                                      1\n",
       "ph                                                                    7.5\n",
       "filtered_sequence       MDSYLLMWGLLTFIMVPGCQAELCDDDPPEIPHATFKAMAYKEGTM...\n",
       "Name: 532, dtype: object"
      ]
     },
     "execution_count": 27,
     "metadata": {},
     "output_type": "execute_result"
    }
   ],
   "source": [
    "rna_data_12.iloc[0]"
   ]
  },
  {
   "cell_type": "code",
   "execution_count": 28,
   "metadata": {},
   "outputs": [
    {
     "name": "stdout",
     "output_type": "stream",
     "text": [
      "<rdkit.Chem.rdchem.Mol object at 0x000001DED143FEB0>\n"
     ]
    },
    {
     "data": {
      "text/plain": [
       "{'MolWt': 19938.06599999998,\n",
       " 'NumRotatableBonds': 663,\n",
       " 'TPSA': 8204.129999999961,\n",
       " 'MolLogP': -95.98120000000483}"
      ]
     },
     "execution_count": 28,
     "metadata": {},
     "output_type": "execute_result"
    }
   ],
   "source": [
    "calculate_aptamer_descriptors(rna_data_12.iloc[0].filtered_sequence)"
   ]
  },
  {
   "cell_type": "code",
   "execution_count": null,
   "metadata": {},
   "outputs": [],
   "source": [
    "assign"
   ]
  }
 ],
 "metadata": {
  "kernelspec": {
   "display_name": "base",
   "language": "python",
   "name": "python3"
  },
  "language_info": {
   "codemirror_mode": {
    "name": "ipython",
    "version": 3
   },
   "file_extension": ".py",
   "mimetype": "text/x-python",
   "name": "python",
   "nbconvert_exporter": "python",
   "pygments_lexer": "ipython3",
   "version": "3.9.12"
  }
 },
 "nbformat": 4,
 "nbformat_minor": 2
}
